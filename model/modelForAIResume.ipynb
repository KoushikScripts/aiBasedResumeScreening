{
  "nbformat": 4,
  "nbformat_minor": 0,
  "metadata": {
    "colab": {
      "provenance": []
    },
    "kernelspec": {
      "name": "python3",
      "display_name": "Python 3"
    },
    "language_info": {
      "name": "python"
    }
  },
  "cells": [
    {
      "cell_type": "code",
      "execution_count": null,
      "metadata": {
        "id": "V7g_9eShaI8u",
        "colab": {
          "base_uri": "https://localhost:8080/"
        },
        "outputId": "2478d67c-09fd-4f79-a5b2-3ef5db1ad091"
      },
      "outputs": [
        {
          "output_type": "stream",
          "name": "stdout",
          "text": [
            "\u001b[2K   \u001b[90m━━━━━━━━━━━━━━━━━━━━━━━━━━━━━━━━━━━━━━━━\u001b[0m \u001b[32m20.0/20.0 MB\u001b[0m \u001b[31m85.4 MB/s\u001b[0m eta \u001b[36m0:00:00\u001b[0m\n",
            "\u001b[?25h"
          ]
        }
      ],
      "source": [
        "!pip install -q pandas scikit-learn PyMuPDF\n"
      ]
    },
    {
      "cell_type": "code",
      "source": [
        "import pandas as pd\n",
        "import fitz  # PyMuPDF\n",
        "import re\n",
        "import json\n",
        "from sklearn.feature_extraction.text import TfidfVectorizer\n",
        "from sklearn.linear_model import LinearRegression\n",
        "from sklearn.pipeline import Pipeline\n",
        "from sklearn.model_selection import train_test_split\n",
        "from sklearn.metrics import mean_squared_error\n"
      ],
      "metadata": {
        "id": "fFflwXCMB22g"
      },
      "execution_count": null,
      "outputs": []
    },
    {
      "cell_type": "code",
      "source": [
        "df = pd.read_csv(\"ResumeWithScores.csv\")\n",
        "df = df[['Resume_str', 'Score']].dropna()\n",
        "df['Resume_str'] = df['Resume_str'].apply(lambda x: re.sub(r'\\s+', ' ', str(x)).strip())\n"
      ],
      "metadata": {
        "id": "FSs_r77bB5OF"
      },
      "execution_count": null,
      "outputs": []
    },
    {
      "cell_type": "code",
      "source": [
        "X_train, X_test, y_train, y_test = train_test_split(df['Resume_str'], df['Score'], test_size=0.2, random_state=42)\n",
        "\n",
        "pipeline = Pipeline([\n",
        "    ('tfidf', TfidfVectorizer(max_features=3000, stop_words='english')),\n",
        "    ('reg', LinearRegression())\n",
        "])\n",
        "\n",
        "pipeline.fit(X_train, y_train)\n",
        "predictions = pipeline.predict(X_test)\n",
        "print(f\"Model RMSE: {mean_squared_error(y_test, predictions):.2f}\")\n"
      ],
      "metadata": {
        "colab": {
          "base_uri": "https://localhost:8080/"
        },
        "id": "J1DlxrUmCBrq",
        "outputId": "ff4f1061-2eb6-43f8-fc9d-1c71f3a1cfa8"
      },
      "execution_count": null,
      "outputs": [
        {
          "output_type": "stream",
          "name": "stdout",
          "text": [
            "Model RMSE: 179.36\n"
          ]
        }
      ]
    },
    {
      "cell_type": "code",
      "source": [
        "def extract_text_from_pdf(pdf_pah):\n",
        "    doc = fitz.open(pdf_path)\n",
        "    text = \"\"\n",
        "    for page in doc:\n",
        "        text += page.get_text()\n",
        "    return re.sub(r'\\s+', ' ', text).strip()\n"
      ],
      "metadata": {
        "id": "p997kSZoCBpj"
      },
      "execution_count": null,
      "outputs": []
    },
    {
      "cell_type": "code",
      "source": [
        "def generate_suggestions(resume_text):\n",
        "    score = pipeline.predict([resume_text])[0]\n",
        "\n",
        "    # Example keywords for suggestions\n",
        "    improvements = {\n",
        "        'handled': 'managed',\n",
        "        'worked on': 'developed',\n",
        "        'responsible for': 'led',\n",
        "        'helped': 'contributed to',\n",
        "        'tasked with': 'spearheaded'\n",
        "    }\n",
        "\n",
        "    word_replacements = {k: v for k, v in improvements.items() if k in resume_text.lower()}\n",
        "\n",
        "    missing_sections = []\n",
        "    if 'certification' not in resume_text.lower():\n",
        "        missing_sections.append('Certifications')\n",
        "    if 'project' not in resume_text.lower():\n",
        "        missing_sections.append('Projects')\n",
        "    if 'summary' not in resume_text.lower():\n",
        "        missing_sections.append('Summary')\n",
        "\n",
        "    feedback = []\n",
        "    if len(resume_text.split()) < 150:\n",
        "        feedback.append(\"Add more detail to expand resume content\")\n",
        "    if not word_replacements:\n",
        "        feedback.append(\"Use more powerful action verbs\")\n",
        "\n",
        "    result = {\n",
        "        \"score\": round(score, 2),\n",
        "        \"suggestions\": {\n",
        "            \"word_replacements\": word_replacements,\n",
        "            \"missing_sections\": missing_sections,\n",
        "            \"style_feedback\": feedback\n",
        "        }\n",
        "    }\n",
        "\n",
        "    return json.dumps(result, indent=2)\n"
      ],
      "metadata": {
        "id": "7Yz7RAZyCBmY"
      },
      "execution_count": null,
      "outputs": []
    },
    {
      "cell_type": "code",
      "source": [
        "pdf_path = \"SuryaResume.pdf\"  # Replace with the actual filename\n",
        "resume_text = extract_text_from_pdf(pdf_path)\n",
        "print(generate_suggestions(resume_text))\n"
      ],
      "metadata": {
        "colab": {
          "base_uri": "https://localhost:8080/"
        },
        "id": "u9uRU11KCBkY",
        "outputId": "b066e7f0-64c6-4dd4-b58b-846ce0d7f1aa"
      },
      "execution_count": null,
      "outputs": [
        {
          "output_type": "stream",
          "name": "stdout",
          "text": [
            "{\n",
            "  \"score\": 34.01,\n",
            "  \"suggestions\": {\n",
            "    \"word_replacements\": {},\n",
            "    \"missing_sections\": [\n",
            "      \"Certifications\",\n",
            "      \"Summary\"\n",
            "    ],\n",
            "    \"style_feedback\": [\n",
            "      \"Use more powerful action verbs\"\n",
            "    ]\n",
            "  }\n",
            "}\n"
          ]
        }
      ]
    },
    {
      "cell_type": "code",
      "source": [
        "from sklearn.metrics import r2_score, mean_absolute_error, mean_squared_error\n",
        "\n",
        "# Compute predictions\n",
        "predictions = pipeline.predict(X_test)\n",
        "\n",
        "# Evaluation metrics\n",
        "mae = mean_absolute_error(y_test, predictions)\n",
        "rmse = mean_squared_error(y_test, predictions) ** 0.5\n",
        "r2 = r2_score(y_test, predictions)\n",
        "\n",
        "# Print results\n",
        "print(f\"Model Evaluation:\")\n",
        "print(f\"  MAE : {mae:.2f}\")\n",
        "print(f\"  RMSE: {rmse:.2f}\")\n",
        "print(f\"  R² Score: {r2:.2f}\")\n"
      ],
      "metadata": {
        "colab": {
          "base_uri": "https://localhost:8080/"
        },
        "id": "aN_P6TsWCBh7",
        "outputId": "04404d8e-4ff6-4ee1-cd24-bfb431c26c8f"
      },
      "execution_count": null,
      "outputs": [
        {
          "output_type": "stream",
          "name": "stdout",
          "text": [
            "Model Evaluation:\n",
            "  MAE : 10.48\n",
            "  RMSE: 13.39\n",
            "  R² Score: -2.21\n"
          ]
        }
      ]
    },
    {
      "cell_type": "code",
      "source": [
        "import numpy as np\n",
        "\n",
        "def extract_features(text):\n",
        "    text = text.lower()\n",
        "    features = {\n",
        "        'length': len(text),\n",
        "        'word_count': len(text.split()),\n",
        "        'num_skills': text.count('skill'),\n",
        "        'num_projects': text.count('project'),\n",
        "        'num_certifications':\n",
        "        text.count('certification'),\n",
        "        'has_summary': int('summary' in text),\n",
        "        'has_experience': int('experience' in text),\n",
        "        'has_education': int('education' in text),\n",
        "        'has_awards': int('award' in text or 'achievement' in text),\n",
        "        'num_action_words': sum(text.count(word) for word in ['led', 'developed', 'managed', 'spearheaded']),\n",
        "    }\n",
        "    return features\n",
        "\n",
        "feature_df = df['Resume_str'].apply(extract_features).apply(pd.Series)\n",
        "X = feature_df\n",
        "y = df['Score']\n"
      ],
      "metadata": {
        "id": "VOi3dk0PCBe5"
      },
      "execution_count": null,
      "outputs": []
    },
    {
      "cell_type": "code",
      "source": [
        "from sklearn.ensemble import RandomForestRegressor\n",
        "from sklearn.model_selection import train_test_split\n",
        "from sklearn.metrics import mean_absolute_error, mean_squared_error, r2_score\n",
        "\n",
        "X_train, X_test, y_train, y_test = train_test_split(X, y, test_size=0.2, random_state=42)\n",
        "\n",
        "rf = RandomForestRegressor(n_estimators=100, random_state=42)\n",
        "rf.fit(X_train, y_train)\n",
        "predictions = rf.predict(X_test)\n"
      ],
      "metadata": {
        "id": "8zUPeK1JJD_E"
      },
      "execution_count": null,
      "outputs": []
    },
    {
      "cell_type": "code",
      "source": [
        "mae = mean_absolute_error(y_test, predictions)\n",
        "rmse = mean_squared_error(y_test, predictions) ** 0.5\n",
        "r2 = r2_score(y_test, predictions)\n",
        "\n",
        "print(\"Random Forest Regressor Evaluation:\")\n",
        "print(f\"  MAE : {mae:.2f}\")\n",
        "print(f\"  RMSE: {rmse:.2f}\")\n",
        "print(f\"  R² Score: {r2:.2f}\")\n"
      ],
      "metadata": {
        "colab": {
          "base_uri": "https://localhost:8080/"
        },
        "id": "yb2PzHsHJF2e",
        "outputId": "891f279c-2a5f-4c0c-f03d-f3b26b7c083f"
      },
      "execution_count": null,
      "outputs": [
        {
          "output_type": "stream",
          "name": "stdout",
          "text": [
            "Random Forest Regressor Evaluation:\n",
            "  MAE : 2.50\n",
            "  RMSE: 3.07\n",
            "  R² Score: 0.83\n"
          ]
        }
      ]
    },
    {
      "cell_type": "code",
      "source": [
        "import json\n",
        "\n",
        "def generate_resume_feedback(pdf_path):\n",
        "    # Extract text from PDF\n",
        "    text = extract_text_from_pdf(pdf_path)\n",
        "\n",
        "    # Extract features and reshape for prediction\n",
        "    features = pd.DataFrame([extract_features(text)])\n",
        "    score = rf.predict(features)[0]\n",
        "\n",
        "    # Smart suggestions\n",
        "    improvements = {\n",
        "        'handled': 'managed',\n",
        "        'worked on': 'developed',\n",
        "        'responsible for': 'led',\n",
        "        'helped': 'contributed to',\n",
        "        'tasked with': 'spearheaded'\n",
        "    }\n",
        "    word_replacements = {k: v for k, v in improvements.items() if k in text.lower()}\n",
        "\n",
        "    missing_sections = []\n",
        "    if 'certificates' not in text.lower():\n",
        "        missing_sections.append('Certifications')\n",
        "    if 'project' not in text.lower():\n",
        "        missing_sections.append('Projects')\n",
        "    if 'education' not in text.lower():\n",
        "        missing_sections.append('Education')\n",
        "    if 'experience' not in text.lower():\n",
        "        missing_sections.append('Experience')\n",
        "    if 'skills' not in text.lower():\n",
        "        missing_sections.append('Skills')\n",
        "\n",
        "\n",
        "    feedback = []\n",
        "    if len(text.split()) < 150:\n",
        "        feedback.append(\"Add more detail to expand resume content\")\n",
        "    if not word_replacements:\n",
        "        feedback.append(\"Use more powerful action verbs\")\n",
        "\n",
        "    result = {\n",
        "        \"score\": round(score, 2),\n",
        "        \"suggestions\": {\n",
        "            \"word_replacements\": word_replacements,\n",
        "            \"missing_sections\": missing_sections,\n",
        "            \"style_feedback\": feedback\n",
        "        }\n",
        "    }\n",
        "\n",
        "    return json.dumps(result, indent=2)\n"
      ],
      "metadata": {
        "id": "hZGmxof0JHZe"
      },
      "execution_count": null,
      "outputs": []
    },
    {
      "cell_type": "code",
      "source": [
        "resume_path = \"SuryaResume.pdf\"  # change this to match the uploaded file name\n",
        "print(generate_resume_feedback(resume_path))\n"
      ],
      "metadata": {
        "colab": {
          "base_uri": "https://localhost:8080/"
        },
        "id": "lDvtmx1eJpgo",
        "outputId": "ec0b0715-9962-4adc-af3c-954160173efa"
      },
      "execution_count": null,
      "outputs": [
        {
          "output_type": "stream",
          "name": "stdout",
          "text": [
            "{\n",
            "  \"score\": 53.3,\n",
            "  \"suggestions\": {\n",
            "    \"word_replacements\": {},\n",
            "    \"missing_sections\": [\n",
            "      \"Summary\"\n",
            "    ],\n",
            "    \"style_feedback\": [\n",
            "      \"Use more powerful action verbs\"\n",
            "    ]\n",
            "  }\n",
            "}\n"
          ]
        }
      ]
    },
    {
      "cell_type": "code",
      "source": [
        "import joblib\n",
        "\n",
        "# Save the trained model\n",
        "joblib.dump(rf, \"resume_score_model.pkl\")\n"
      ],
      "metadata": {
        "colab": {
          "base_uri": "https://localhost:8080/"
        },
        "id": "aOAH4c7-Jukh",
        "outputId": "e0dac8c8-8213-494d-9668-a66db3884c0d"
      },
      "execution_count": null,
      "outputs": [
        {
          "output_type": "execute_result",
          "data": {
            "text/plain": [
              "['resume_score_model.pkl']"
            ]
          },
          "metadata": {},
          "execution_count": 18
        }
      ]
    },
    {
      "cell_type": "code",
      "source": [
        "import joblib\n",
        "\n",
        "# Load the saved model\n",
        "model = joblib.load(\"resume_score_model.pkl\")\n"
      ],
      "metadata": {
        "id": "NteR0QMgLvFs"
      },
      "execution_count": null,
      "outputs": []
    },
    {
      "cell_type": "code",
      "source": [],
      "metadata": {
        "id": "sQOjqqJhLy6Z"
      },
      "execution_count": null,
      "outputs": []
    }
  ]
}